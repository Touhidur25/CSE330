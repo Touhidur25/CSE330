{
 "cells": [
  {
   "cell_type": "markdown",
   "metadata": {
    "id": "Ml08wyLqKcSU"
   },
   "source": [
    "Make sure you remove `raise NotImplementedError()` and fill in any place that says `# YOUR CODE HERE`, as well as your `NAME`, `ID`, and `SECTION` below:"
   ]
  },
  {
   "cell_type": "code",
   "execution_count": null,
   "metadata": {
    "id": "GVRf4hAuKgWL"
   },
   "outputs": [],
   "source": [
    "NAME = \"MD Touhidur Rahman\"\n",
    "ID = \"22101446\"\n",
    "SECTION = \"14\""
   ]
  },
  {
   "cell_type": "markdown",
   "metadata": {
    "id": "H_ULObpbKtx7"
   },
   "source": [
    "# CSE330 Lab: Polynomial Interpolation using Lagrange Form\n",
    "---"
   ]
  },
  {
   "cell_type": "markdown",
   "metadata": {
    "id": "TjWZ642jK2Oj"
   },
   "source": [
    "### Importing necessary libraries"
   ]
  },
  {
   "cell_type": "code",
   "execution_count": 3,
   "metadata": {
    "id": "2uFs-A1RK6Aq"
   },
   "outputs": [],
   "source": [
    "import numpy as np\n",
    "import matplotlib.pyplot as plt"
   ]
  },
  {
   "cell_type": "markdown",
   "metadata": {
    "id": "3SQ9S7qlLHo7"
   },
   "source": [
    "### The Lagrange_Polynomial class\n",
    "General form of an $n$ degree Lagrange polynomial:\n",
    "\n",
    "\\begin{equation}\n",
    "p_n(x) = \\sum_{k=0}^{n} f(x_k)l_k(x) = \\sum_{k=0}^{n} y_kl_k(x),\\tag{1}\n",
    "\\end{equation}\n",
    "\n",
    "where\n",
    "\\begin{equation}\n",
    "l_k(x) = \\prod_{j=0, j\\neq k}^{n} \\frac{x-x_j}{x_k-x_j}. \\tag{2}\n",
    "\\end{equation}\n",
    "\n",
    "Note that the Lagrange method is more efficient than the matrix method because *we do not need to calculate any inverse matrices*.\n",
    "\n",
    "1. **The constructor `__init__(self, data_x, data_y)` is written for you.**\n",
    "\n",
    "     * Here, we check whether the input vectors (numpy arrays) are equal or not.\n",
    "     * We store `data_x` and `data_y`\n",
    "     * We calculate and store the degree of the polynomial.\n",
    "$$\\$$\n",
    "\n",
    "2. **The `_repr__(self)` function has been written for you.**\n",
    "\n",
    "    * This is similar to the `toString()` method in Java. This returns a formatted string of the object whenever the object is printed.\n",
    "$$\\$$\n",
    "\n",
    "3. **You have to implement the `l(self, k, x)` function.**\n",
    "    * This function would take `k` and `x` as inputs and calculate the Lagrange basis using the Equation $(2)$.\n",
    "$$\\$$\n",
    "\n",
    "4. **You have to implement the `__call__(self, x_arr)` function.**\n",
    "    * This function makes an object of a class callable.\n",
    "    * The function calculates the lagrange polynomial from a set of given nodes. `self.data_x` and `self.data_y` contains the coordinates of the given nodes of the original function. Using Equation $(1)$, you have to use `self.data_x`, `self.data_y`, and the `l(k, x_k, x)` function to find the interpolated output of the polynomial for all elements of `x_arr`.\n",
    "`x_arr` is a numpy array containing points through which we want to plot our polynomial."
   ]
  },
  {
   "cell_type": "code",
   "execution_count": 5,
   "metadata": {
    "id": "hHo-4ROmLN7r"
   },
   "outputs": [],
   "source": [
    "class Lagrange_Polynomial:\n",
    "    def __init__(self, data_x, data_y):\n",
    "        '''\n",
    "        First we need to check whether the input vectors (numpy arrays) are equal\n",
    "        or not.\n",
    "        assert (condition), \"msg\"\n",
    "        this command checks if the condition is true or false. If true, the code\n",
    "        runs normally. But if false, then the code returns an error message \"msg\"\n",
    "        and stops execution\n",
    "        '''\n",
    "        assert len(data_x) == len(data_y), \"length of data_x and data_y must be equal\"\n",
    "\n",
    "        '''\n",
    "        Lagrange polynomials do not use coefficeints a_i, rather the nodes\n",
    "        (x_i, y_i). Hence, we just need to store these inside the object\n",
    "        '''\n",
    "\n",
    "        self.data_x = data_x\n",
    "        self.data_y = data_y\n",
    "\n",
    "        self.degree = len(data_x) - 1\n",
    "        # we assume that the inputs are numpy array, so we can perform\n",
    "        # element wise operations\n",
    "\n",
    "    def __repr__(self):\n",
    "        # method for string representation\n",
    "        # you don't need to worry about the following code if you don't understand\n",
    "        strL = f\"LagrangePolynomial of order {self.degree}\\n\"\n",
    "        strL += \"p(x) = \"\n",
    "        for i in range(len(self.data_y)):\n",
    "            if self.data_y[i] == 0:\n",
    "                continue\n",
    "            elif self.data_y[i] >= 0:\n",
    "                strL += f\"+ {self.data_y[i]}*l_{i}(x) \"\n",
    "            else:\n",
    "                strL += f\"- {-self.data_y[i]}*l_{i}(x) \"\n",
    "\n",
    "        return strL\n",
    "\n",
    "    def l(self, k, x):\n",
    "\n",
    "\n",
    "        l_k = 1.0 # Initialization\n",
    "\n",
    "        # --------------------------------------------\n",
    "        # YOUR CODE HERE\n",
    "        #raise NotImplementedError()\n",
    "        for i in range(self.degree+1):\n",
    "          if i==k:\n",
    "            continue\n",
    "          else:\n",
    "            x_j=self.data_x[i]\n",
    "            x_k=self.data_x[k]\n",
    "            l_k*=(x-x_j)/(x_k-x_j)\n",
    "\n",
    "        return l_k\n",
    "\n",
    "\n",
    "    def __call__(self, x_arr):\n",
    "\n",
    "        # initialize with zero\n",
    "        p_x_arr  = np.zeros(len(x_arr))\n",
    "\n",
    "        # --------------------------------------------\n",
    "        # YOUR CODE HERE\n",
    "        for i,x in enumerate(x_arr):\n",
    "          for k in range(self.degree+1):\n",
    "            p_x_arr[i]+=self.l(k,x)*self.data_y[k]\n",
    "\n",
    "        #raise NotImplementedError()\n",
    "\n",
    "        return p_x_arr"
   ]
  },
  {
   "cell_type": "markdown",
   "metadata": {
    "id": "TP3FijTrLRqM"
   },
   "source": [
    "### Calling the LagrangePolynomial object and plotting the polynomial."
   ]
  },
  {
   "cell_type": "markdown",
   "metadata": {
    "id": "vZ03F6r6LXt4"
   },
   "source": [
    "*Note that in the plot the given nodes will be marked in red.*"
   ]
  },
  {
   "cell_type": "code",
   "execution_count": 6,
   "metadata": {
    "id": "XPnAKBXLLSox"
   },
   "outputs": [],
   "source": [
    "import numpy as np"
   ]
  },
  {
   "cell_type": "code",
   "execution_count": 7,
   "metadata": {
    "colab": {
     "base_uri": "https://localhost:8080/",
     "height": 507
    },
    "id": "w2eQPT5bLddC",
    "outputId": "54838d2f-16a8-47f9-af26-07c01d8d3ae7"
   },
   "outputs": [
    {
     "name": "stdout",
     "output_type": "stream",
     "text": [
      "LagrangePolynomial of order 5\n",
      "p(x) = + 4.0*l_0(x) + 1.193*l_1(x) + 6.156*l_2(x) + 2.0*l_3(x) + 1.803*l_4(x) \n"
     ]
    },
    {
     "data": {
      "image/png": "[encoded data removed]",
      "text/plain": [
       "<Figure size 640x480 with 1 Axes>"
      ]
     },
     "metadata": {},
     "output_type": "display_data"
    }
   ],
   "source": [
    "data_x = np.array([-3.5, -3.451, 1.152, -0.5, 0.198, 1.6])\n",
    "data_y = np.array([4.0, 1.193, 6.156, 2.0, 1.803, 0.0])\n",
    "\n",
    "p = Lagrange_Polynomial(data_x, data_y)\n",
    "print(p)\n",
    "\n",
    "#generating 50 points from -2.55 to 1.189 in order to create a smooth line\n",
    "x_arr = np.linspace(-4, 1.6, 40)\n",
    "p_x_arr = p(x_arr)\n",
    "\n",
    "# plot to see if your implementation is correct\n",
    "#google the functions to understand what each parameters mean, if not apparent\n",
    "plt.plot(x_arr, p_x_arr)\n",
    "plt.plot(data_x, data_y, 'ro')\n",
    "plt.legend(['interpolated', 'node points'], loc = 'lower right')\n",
    "plt.xlabel('x')\n",
    "plt.ylabel('y')\n",
    "plt.title('Lagrange Polynomial')\n",
    "\n",
    "plt.show()"
   ]
  },
  {
   "cell_type": "markdown",
   "metadata": {
    "id": "fbTwACtlLpXb"
   },
   "source": [
    "###Problem related Lagrange interpolation\n",
    "\n",
    "> Suppose, you have a function f(x) = 4x and three nodes (2, 8), (4, 16), (6, 24). Using Lagrange basis, print out the value of the interpolating polynomial at x = -2.5. Also, display the actual interpolation error at x = -2.5.\n",
    "\n",
    "Hint: Interpolation error = | f(-2.5) - p(-2.5) | where p is the interpolating polynomial.\n",
    "\n",
    "`You have to solve this problem using Lagrange_Polynomial class`"
   ]
  },
  {
   "cell_type": "code",
   "execution_count": 10,
   "metadata": {
    "colab": {
     "base_uri": "https://localhost:8080/"
    },
    "id": "4W_tvHqkfs9w",
    "outputId": "3995c3bb-99e8-4c46-c216-774e754e9730"
   },
   "outputs": [
    {
     "name": "stdout",
     "output_type": "stream",
     "text": [
      "LagrangePolynomial of order 2\n",
      "p(x) = + 8*l_0(x) + 16*l_1(x) + 24*l_2(x) \n",
      "[-10.]\n",
      "[9.12191752]\n"
     ]
    }
   ],
   "source": [
    "# --------------------------------------------\n",
    "        # YOUR CODE HERE\n",
    "\n",
    "ax= np.array([2, 4, 6])\n",
    "ay= np.array([8,16,24])\n",
    "\n",
    "a= Lagrange_Polynomial(ax, ay)\n",
    "print(a)\n",
    "print(a([-2.5]))\n",
    "print(abs((4*-1.5)-p([-1.5])))\n"
   ]
  }
 ],
 "metadata": {
  "colab": {
   "provenance": []
  },
  "kernelspec": {
   "display_name": "Python 3",
   "name": "python3"
  },
  "language_info": {
   "name": "python"
  }
 },
 "nbformat": 4,
 "nbformat_minor": 0
}
